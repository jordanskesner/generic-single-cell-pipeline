{
 "cells": [
  {
   "cell_type": "code",
   "execution_count": 6,
   "id": "0c8877c3-5186-430e-a3b9-36c8be1c7a96",
   "metadata": {},
   "outputs": [],
   "source": [
    "#=== Installs and imports ===#\n",
    "import pipeline_utils\n",
    "import os\n",
    "import gzip\n",
    "import requests\n",
    "import csv\n",
    "\n",
    "## \n",
    "import pandas as pd\n",
    "\n",
    "##\n",
    "import matplotlib.pyplot as plt\n",
    "import matplotlib.patches as patches"
   ]
  },
  {
   "cell_type": "code",
   "execution_count": 2,
   "id": "8dfdcbd6-cee9-43df-b9d2-0285739a2102",
   "metadata": {
    "editable": true,
    "slideshow": {
     "slide_type": ""
    },
    "tags": []
   },
   "outputs": [
    {
     "name": "stdout",
     "output_type": "stream",
     "text": [
      "Called identify_converging_genes function\n",
      "Target fasta url: http://ftp.ensembl.org/pub/release-111/fasta/homo_sapiens/dna/Homo_sapiens.GRCh38.dna.primary_assembly.fa.gz\n",
      "Target gff3 url: http://ftp.ensembl.org/pub/release-111/gff3/homo_sapiens/Homo_sapiens.GRCh38.111.gff3.gz\n",
      "Output directory for genome files: ../0.local/generic-single-cell-pipeline/genome_data\n",
      "Minimum distance between gene pairs: 1000\n",
      "Destination filepath for fasta: ../0.local/generic-single-cell-pipeline/genome_data/Homo_sapiens.GRCh38.dna.primary_assembly.fa.gz\n",
      "Destination filepath for gff3: ../0.local/generic-single-cell-pipeline/genome_data/Homo_sapiens.GRCh38.111.gff3.gz\n",
      "Attempting file downloads\n",
      "Called download_file function\n",
      "Target url: http://ftp.ensembl.org/pub/release-111/fasta/homo_sapiens/dna/Homo_sapiens.GRCh38.dna.primary_assembly.fa.gz\n",
      "Destination filepath: ../0.local/generic-single-cell-pipeline/genome_data/Homo_sapiens.GRCh38.dna.primary_assembly.fa.gz\n",
      "File already exists, exiting\n",
      "Called download_file function\n",
      "Target url: http://ftp.ensembl.org/pub/release-111/gff3/homo_sapiens/Homo_sapiens.GRCh38.111.gff3.gz\n",
      "Destination filepath: ../0.local/generic-single-cell-pipeline/genome_data/Homo_sapiens.GRCh38.111.gff3.gz\n",
      "File already exists, exiting\n",
      "Parsing GFF3 file\n",
      "Identifying converging gene pairs\n",
      "Called find_facing_gene_pairs function with the following parameters:\n",
      "Max distance between genes ends to be considered converging: 1000\n",
      "Excluding overlapping genes: False\n",
      "Found 4152 converging gene pairs\n"
     ]
    }
   ],
   "source": [
    "\n",
    "\n",
    "\n",
    "#=== Identify converging genes ===#\n",
    "# Note, proximity is measured by \n",
    "def identify_converging_genes(fasta_url, gff3_url, output_dir, gene_proximity = 1000, exclude_overlap=False, verbose=True):\n",
    "\n",
    "    ##\n",
    "    import pipeline_utils\n",
    "\n",
    "    ## Log the function and params\n",
    "    if verbose:\n",
    "        print(\"Called identify_converging_genes function\")\n",
    "        print(f\"Target fasta url: {fasta_url}\")\n",
    "        print(f\"Target gff3 url: {gff3_url}\")\n",
    "        print(f\"Output directory for genome files: {output_dir}\")\n",
    "        print(f\"Minimum distance between gene pairs: {gene_proximity}\")\n",
    "\n",
    "    ## Instantiate the dataframe\n",
    "    df_gene = pd.DataFrame(columns=[\"gene\", \"chromosome\", \"start\", \"end\", \"strand\"])\n",
    "\n",
    "    ## Download the required files, skip if already present\n",
    "    os.makedirs(output_dir, exist_ok=True)\n",
    "    fasta_path = os.path.join(output_dir, os.path.basename(fasta_url))\n",
    "    gff3_path = os.path.join(output_dir, os.path.basename(gff3_url))\n",
    "\n",
    "    ##\n",
    "    if verbose:\n",
    "        print(f\"Destination filepath for fasta: {fasta_path}\")\n",
    "        print(f\"Destination filepath for gff3: {gff3_path}\")\n",
    "\n",
    "    ## Download the required genome and annotation files ##\n",
    "    if verbose:\n",
    "        print(\"Attempting file downloads\")\n",
    "    ##\n",
    "    pipeline_utils.download_file(fasta_url, fasta_path)\n",
    "    pipeline_utils.download_file(gff3_url, gff3_path)\n",
    "\n",
    "    ## Parse the GFF3 file\n",
    "    if verbose:\n",
    "        print(\"Parsing GFF3 file\")\n",
    "    ##\n",
    "    genes = pipeline_utils.parse_gff3_genes(gff3_path)\n",
    "\n",
    "    ## Find facing pairs\n",
    "    if verbose:\n",
    "        print(\"Identifying converging gene pairs\")\n",
    "    ##\n",
    "    facing_pairs = pipeline_utils.find_facing_gene_pairs(genes, 1000, exclude_overlap=exclude_overlap, verbose=verbose)\n",
    "\n",
    "    ##\n",
    "    return(facing_pairs)\n",
    "\n",
    "\n",
    "\n",
    "######\n",
    "##\n",
    "fasta_url = \"http://ftp.ensembl.org/pub/release-111/fasta/homo_sapiens/dna/Homo_sapiens.GRCh38.dna.primary_assembly.fa.gz\"\n",
    "gff3_url = \"http://ftp.ensembl.org/pub/release-111/gff3/homo_sapiens/Homo_sapiens.GRCh38.111.gff3.gz\"\n",
    "output_dir = \"../0.local/generic-single-cell-pipeline/genome_data\"\n",
    "max_proximity_bp = 1000\n",
    "\n",
    "##\n",
    "gene_pairs = identify_converging_genes(fasta_url = fasta_url, gff3_url = gff3_url, output_dir = output_dir)\n",
    "\n",
    "#for g1, g2 in facing_pairs:\n",
    "#    print(f\"{g1.name} ({g1.chrom}:{g1.start}-{g1.end} {g1.strand}) ↔ {g2.name} ({g2.chrom}:{g2.start}-{g2.end} {g2.strand})\")"
   ]
  },
  {
   "cell_type": "code",
   "execution_count": 4,
   "id": "915a3d88-158d-4fbc-9974-a639045d0843",
   "metadata": {},
   "outputs": [
    {
     "name": "stdout",
     "output_type": "stream",
     "text": [
      "<class 'list'>\n",
      "<class 'tuple'>\n",
      "<class 'dict'>\n",
      "({'id': 'gene:ENSG00000156875', 'gene': 'MFSD14A', 'chrom': '1', 'start': '100038095', 'end': '100083377', 'strand': '+'}, {'id': 'gene:ENSG00000156876', 'gene': 'SASS6', 'chrom': '1', 'start': '100083563', 'end': '100132955', 'strand': '-'})\n",
      "({'id': 'gene:ENSG00000187608', 'gene': 'ISG15', 'chrom': '1', 'start': '1001138', 'end': '1014540', 'strand': '+'}, {'id': 'gene:ENSG00000156876', 'gene': 'SASS6', 'chrom': '1', 'start': '100083563', 'end': '100132955', 'strand': '-'})\n",
      "{'id': 'gene:ENSG00000156875', 'gene': 'MFSD14A', 'chrom': '1', 'start': '100038095', 'end': '100083377', 'strand': '+'}\n",
      "{'id': 'gene:ENSG00000156876', 'gene': 'SASS6', 'chrom': '1', 'start': '100083563', 'end': '100132955', 'strand': '-'}\n"
     ]
    }
   ],
   "source": [
    "#print(type(gene_pairs))\n",
    "#print(gene_pairs)\n",
    "#print(len(gene_pairs))\n",
    "#print(gene_pairs[0])\n",
    "\n",
    "print(type(gene_pairs))\n",
    "print(type(gene_pairs[0]))\n",
    "#print(type(gene_pairs[1]))\n",
    "print(type(gene_pairs[0][0]))\n",
    "#print(type(gene_pairs[0][1]))\n",
    "#\n",
    "#print(gene_pairs)\n",
    "print(gene_pairs[0])\n",
    "print(gene_pairs[1])\n",
    "print(gene_pairs[0][0])\n",
    "print(gene_pairs[0][1])"
   ]
  },
  {
   "cell_type": "code",
   "execution_count": 7,
   "id": "eac34eda-ab32-406b-b76c-5bf9112db2bd",
   "metadata": {},
   "outputs": [],
   "source": [
    "# Open the output CSV file\n",
    "with open(\"converging_genes.csv\", \"w\", newline=\"\") as csvfile:\n",
    "    writer = csv.writer(csvfile)\n",
    "\n",
    "    # Optional: Write a header row\n",
    "    # Assuming all dictionaries have the same keys\n",
    "    keys1 = gene_pairs[0][0].keys()\n",
    "    keys2 = gene_pairs[0][1].keys()\n",
    "    header = [f\"1_{k}\" for k in keys1] + [f\"2_{k}\" for k in keys2]\n",
    "    writer.writerow(header)\n",
    "\n",
    "    # Write data rows\n",
    "    for dict1, dict2 in gene_pairs:\n",
    "        row = list(dict1.values()) + list(dict2.values())\n",
    "        writer.writerow(row)"
   ]
  },
  {
   "cell_type": "code",
   "execution_count": null,
   "id": "ebac6aaf-ab11-4ae7-ad24-4c12d736e2ab",
   "metadata": {},
   "outputs": [],
   "source": []
  }
 ],
 "metadata": {
  "kernelspec": {
   "display_name": "Python 3 (ipykernel)",
   "language": "python",
   "name": "python3"
  },
  "language_info": {
   "codemirror_mode": {
    "name": "ipython",
    "version": 3
   },
   "file_extension": ".py",
   "mimetype": "text/x-python",
   "name": "python",
   "nbconvert_exporter": "python",
   "pygments_lexer": "ipython3",
   "version": "3.11.7"
  }
 },
 "nbformat": 4,
 "nbformat_minor": 5
}
